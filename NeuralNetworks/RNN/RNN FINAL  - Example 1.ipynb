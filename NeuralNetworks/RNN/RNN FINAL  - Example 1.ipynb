{
 "cells": [
  {
   "cell_type": "code",
   "execution_count": 47,
   "metadata": {},
   "outputs": [],
   "source": [
    "#################### Data Processing ######################\n",
    "from numpy import array\n",
    "from keras.preprocessing.text import Tokenizer\n",
    "from keras.utils import to_categorical\n",
    "\n",
    "##################### Model building #####################\n",
    "from keras.models import Sequential\n",
    "from keras.layers import Dense\n",
    "from keras.layers import LSTM\n",
    "from keras.layers import Embedding"
   ]
  },
  {
   "cell_type": "code",
   "execution_count": 73,
   "metadata": {},
   "outputs": [
    {
     "data": {
      "text/plain": [
       "'California is a state in the Western United States. California borders Oregon to the north, Nevada and Arizona to the east, the Mexican state of Baja California to the south; and has a coastline along the Pacific Ocean to the west.'"
      ]
     },
     "execution_count": 73,
     "metadata": {},
     "output_type": "execute_result"
    }
   ],
   "source": [
    "data=\"California is a state in the Western United States. California borders Oregon to the north, Nevada and Arizona to the east, the Mexican state of Baja California to the south; and has a coastline along the Pacific Ocean to the west.\"\n",
    "\n",
    "data"
   ]
  },
  {
   "cell_type": "markdown",
   "metadata": {},
   "source": [
    "# Data Pre-Processing "
   ]
  },
  {
   "cell_type": "code",
   "execution_count": 49,
   "metadata": {},
   "outputs": [
    {
     "data": {
      "text/plain": [
       "'california is a state in the western united states. california borders oregon to the north, nevada and arizona to the east, the mexican state of baja california to the south; and has a coastline along the pacific ocean to the west.'"
      ]
     },
     "execution_count": 49,
     "metadata": {},
     "output_type": "execute_result"
    }
   ],
   "source": [
    "# cleaning the data\n",
    "data= data.lower()           # Converting the string to lower case to get uniformity\n",
    "data"
   ]
  },
  {
   "cell_type": "code",
   "execution_count": 50,
   "metadata": {},
   "outputs": [
    {
     "data": {
      "text/plain": [
       "'!\"#$%&\\'()*+,-./:;<=>?@[\\\\]^_`{|}~'"
      ]
     },
     "execution_count": 50,
     "metadata": {},
     "output_type": "execute_result"
    }
   ],
   "source": [
    "import string\n",
    "string.punctuation"
   ]
  },
  {
   "cell_type": "code",
   "execution_count": 51,
   "metadata": {},
   "outputs": [],
   "source": [
    "def remove_punctuation(text):\n",
    "    text_nopunt=\"\".join([c \n",
    "                         for c in text\n",
    "                         if c not in string.punctuation])\n",
    "    return text_nopunt"
   ]
  },
  {
   "cell_type": "code",
   "execution_count": 52,
   "metadata": {},
   "outputs": [
    {
     "data": {
      "text/plain": [
       "'california is a state in the western united states california borders oregon to the north nevada and arizona to the east the mexican state of baja california to the south and has a coastline along the pacific ocean to the west'"
      ]
     },
     "execution_count": 52,
     "metadata": {},
     "output_type": "execute_result"
    }
   ],
   "source": [
    "data=remove_punctuation(data)\n",
    "\n",
    "data"
   ]
  },
  {
   "cell_type": "code",
   "execution_count": 53,
   "metadata": {},
   "outputs": [
    {
     "name": "stderr",
     "output_type": "stream",
     "text": [
      "[nltk_data] Downloading package punkt to\n",
      "[nltk_data]     C:\\Users\\L\\AppData\\Roaming\\nltk_data...\n",
      "[nltk_data]   Package punkt is already up-to-date!\n"
     ]
    },
    {
     "data": {
      "text/plain": [
       "True"
      ]
     },
     "execution_count": 53,
     "metadata": {},
     "output_type": "execute_result"
    }
   ],
   "source": [
    "import nltk\n",
    "nltk.download('punkt')"
   ]
  },
  {
   "cell_type": "code",
   "execution_count": 54,
   "metadata": {},
   "outputs": [
    {
     "name": "stdout",
     "output_type": "stream",
     "text": [
      "Word Token:  \n",
      " ['california', 'is', 'a', 'state', 'in', 'the', 'western', 'united', 'states', 'california', 'borders', 'oregon', 'to', 'the', 'north', 'nevada', 'and', 'arizona', 'to', 'the', 'east', 'the', 'mexican', 'state', 'of', 'baja', 'california', 'to', 'the', 'south', 'and', 'has', 'a', 'coastline', 'along', 'the', 'pacific', 'ocean', 'to', 'the', 'west']\n"
     ]
    }
   ],
   "source": [
    "from nltk.corpus import stopwords\n",
    "from nltk.tokenize import word_tokenize\n",
    "\n",
    "stop_words = set(stopwords.words('english'))\n",
    "  \n",
    "text_tokens = word_tokenize(data)\n",
    "print(\"Word Token:  \\n\",text_tokens)"
   ]
  },
  {
   "cell_type": "code",
   "execution_count": 55,
   "metadata": {
    "scrolled": false
   },
   "outputs": [
    {
     "name": "stdout",
     "output_type": "stream",
     "text": [
      "Word Without StopWords:  \n",
      " ['california', 'state', 'western', 'united', 'states', 'california', 'borders', 'oregon', 'north', 'nevada', 'arizona', 'east', 'mexican', 'state', 'baja', 'california', 'south', 'coastline', 'pacific', 'ocean', 'west']\n"
     ]
    }
   ],
   "source": [
    "tokens_without_sw = [word \n",
    "                     for word in text_tokens \n",
    "                     if not word in stopwords.words()]\n",
    "print(\"Word Without StopWords:  \\n\",tokens_without_sw)"
   ]
  },
  {
   "cell_type": "code",
   "execution_count": 56,
   "metadata": {},
   "outputs": [
    {
     "data": {
      "text/plain": [
       "'california state western united states california borders oregon north nevada arizona east mexican state baja california south coastline pacific ocean west'"
      ]
     },
     "execution_count": 56,
     "metadata": {},
     "output_type": "execute_result"
    }
   ],
   "source": [
    "data = (\" \").join(tokens_without_sw)\n",
    "data"
   ]
  },
  {
   "cell_type": "code",
   "execution_count": 57,
   "metadata": {},
   "outputs": [
    {
     "data": {
      "text/plain": [
       "[1, 2, 3, 4, 5, 1, 6, 7, 8, 9, 10, 11, 12, 2, 13, 1, 14, 15, 16, 17, 18]"
      ]
     },
     "execution_count": 57,
     "metadata": {},
     "output_type": "execute_result"
    }
   ],
   "source": [
    "# Instantiating the Tokenizer\n",
    "tokenizer = Tokenizer()\n",
    "tokenizer.fit_on_texts([data])  ## convert sentance to word  \n",
    "sequence_data = tokenizer.texts_to_sequences([data])[0]  # mode concept for sequence \n",
    "sequence_data   "
   ]
  },
  {
   "cell_type": "code",
   "execution_count": 58,
   "metadata": {},
   "outputs": [
    {
     "name": "stdout",
     "output_type": "stream",
     "text": [
      "18\n"
     ]
    }
   ],
   "source": [
    "# Getting the total number of words of the data.\n",
    "word2idx = tokenizer.word_index  ####### index number to every token ro word \n",
    "print(len(word2idx))"
   ]
  },
  {
   "cell_type": "code",
   "execution_count": 59,
   "metadata": {},
   "outputs": [
    {
     "name": "stdout",
     "output_type": "stream",
     "text": [
      "{'california': 1, 'state': 2, 'western': 3, 'united': 4, 'states': 5, 'borders': 6, 'oregon': 7, 'north': 8, 'nevada': 9, 'arizona': 10, 'east': 11, 'mexican': 12, 'baja': 13, 'south': 14, 'coastline': 15, 'pacific': 16, 'ocean': 17, 'west': 18}\n"
     ]
    }
   ],
   "source": [
    "print(word2idx)"
   ]
  },
  {
   "cell_type": "code",
   "execution_count": 60,
   "metadata": {},
   "outputs": [
    {
     "name": "stdout",
     "output_type": "stream",
     "text": [
      "19\n"
     ]
    }
   ],
   "source": [
    "vocab_size = len(word2idx) + 1    ### Get unique words\n",
    "print(vocab_size)         # california = 0+1   "
   ]
  },
  {
   "cell_type": "code",
   "execution_count": 61,
   "metadata": {},
   "outputs": [
    {
     "data": {
      "text/plain": [
       "[1, 2, 3, 4, 5, 1, 6, 7, 8, 9, 10, 11, 12, 2, 13, 1, 14, 15, 16, 17, 18]"
      ]
     },
     "execution_count": 61,
     "metadata": {},
     "output_type": "execute_result"
    }
   ],
   "source": [
    "sequence_data"
   ]
  },
  {
   "cell_type": "code",
   "execution_count": 62,
   "metadata": {},
   "outputs": [
    {
     "name": "stdout",
     "output_type": "stream",
     "text": [
      "18\n"
     ]
    }
   ],
   "source": [
    "sequences = []  # empty list \n",
    "for i in range(3,len(sequence_data)): # i = 3 to 20 # sequence_data= count of words\n",
    "    abc=sequence_data[i-3:i+1] # 0,1\n",
    "    sequences.append(abc)\n",
    "\n",
    "print(len(sequences))"
   ]
  },
  {
   "cell_type": "code",
   "execution_count": 63,
   "metadata": {},
   "outputs": [
    {
     "data": {
      "text/plain": [
       "[[1, 2, 3, 4],\n",
       " [2, 3, 4, 5],\n",
       " [3, 4, 5, 1],\n",
       " [4, 5, 1, 6],\n",
       " [5, 1, 6, 7],\n",
       " [1, 6, 7, 8],\n",
       " [6, 7, 8, 9],\n",
       " [7, 8, 9, 10],\n",
       " [8, 9, 10, 11],\n",
       " [9, 10, 11, 12],\n",
       " [10, 11, 12, 2],\n",
       " [11, 12, 2, 13],\n",
       " [12, 2, 13, 1],\n",
       " [2, 13, 1, 14],\n",
       " [13, 1, 14, 15],\n",
       " [1, 14, 15, 16],\n",
       " [14, 15, 16, 17],\n",
       " [15, 16, 17, 18]]"
      ]
     },
     "execution_count": 63,
     "metadata": {},
     "output_type": "execute_result"
    }
   ],
   "source": [
    "sequences"
   ]
  },
  {
   "cell_type": "code",
   "execution_count": 64,
   "metadata": {},
   "outputs": [
    {
     "data": {
      "text/plain": [
       "array([[ 1,  2,  3,  4],\n",
       "       [ 2,  3,  4,  5],\n",
       "       [ 3,  4,  5,  1],\n",
       "       [ 4,  5,  1,  6],\n",
       "       [ 5,  1,  6,  7],\n",
       "       [ 1,  6,  7,  8],\n",
       "       [ 6,  7,  8,  9],\n",
       "       [ 7,  8,  9, 10],\n",
       "       [ 8,  9, 10, 11],\n",
       "       [ 9, 10, 11, 12],\n",
       "       [10, 11, 12,  2],\n",
       "       [11, 12,  2, 13],\n",
       "       [12,  2, 13,  1],\n",
       "       [ 2, 13,  1, 14],\n",
       "       [13,  1, 14, 15],\n",
       "       [ 1, 14, 15, 16],\n",
       "       [14, 15, 16, 17],\n",
       "       [15, 16, 17, 18]])"
      ]
     },
     "execution_count": 64,
     "metadata": {},
     "output_type": "execute_result"
    }
   ],
   "source": [
    "import numpy as np\n",
    "sequences=np.array(sequences)\n",
    "sequences"
   ]
  },
  {
   "cell_type": "code",
   "execution_count": 65,
   "metadata": {},
   "outputs": [],
   "source": [
    "X = []\n",
    "Y = []\n",
    "for i in sequences: \n",
    "    X.append(i[0:3])  # i = 0,1,2\n",
    "    Y.append(i[3])\n",
    "\n",
    "X = np.array(X)\n",
    "Y = np.array(Y)"
   ]
  },
  {
   "cell_type": "code",
   "execution_count": 66,
   "metadata": {},
   "outputs": [
    {
     "name": "stdout",
     "output_type": "stream",
     "text": [
      "Data [[1 2 3]\n",
      " [2 3 4]\n",
      " [3 4 5]\n",
      " [4 5 1]\n",
      " [5 1 6]]\n",
      "Response [4 5 1 6 7]\n"
     ]
    }
   ],
   "source": [
    "print(\"Data\" , X[:5])\n",
    "print(\"Response\" , Y[:5])"
   ]
  },
  {
   "cell_type": "code",
   "execution_count": 67,
   "metadata": {},
   "outputs": [
    {
     "data": {
      "text/plain": [
       "array([ 4,  5,  1,  6,  7,  8,  9, 10, 11, 12,  2, 13,  1, 14, 15, 16, 17,\n",
       "       18])"
      ]
     },
     "execution_count": 67,
     "metadata": {},
     "output_type": "execute_result"
    }
   ],
   "source": [
    "Y"
   ]
  },
  {
   "cell_type": "code",
   "execution_count": 68,
   "metadata": {},
   "outputs": [
    {
     "data": {
      "text/plain": [
       "array([[0., 0., 0., 0., 1., 0., 0., 0., 0., 0., 0., 0., 0., 0., 0., 0.,\n",
       "        0., 0., 0.],\n",
       "       [0., 0., 0., 0., 0., 1., 0., 0., 0., 0., 0., 0., 0., 0., 0., 0.,\n",
       "        0., 0., 0.],\n",
       "       [0., 1., 0., 0., 0., 0., 0., 0., 0., 0., 0., 0., 0., 0., 0., 0.,\n",
       "        0., 0., 0.],\n",
       "       [0., 0., 0., 0., 0., 0., 1., 0., 0., 0., 0., 0., 0., 0., 0., 0.,\n",
       "        0., 0., 0.],\n",
       "       [0., 0., 0., 0., 0., 0., 0., 1., 0., 0., 0., 0., 0., 0., 0., 0.,\n",
       "        0., 0., 0.]], dtype=float32)"
      ]
     },
     "execution_count": 68,
     "metadata": {},
     "output_type": "execute_result"
    }
   ],
   "source": [
    "Y=to_categorical(Y,num_classes=vocab_size)  # Matrix of Y  \n",
    "Y[:5]"
   ]
  },
  {
   "cell_type": "markdown",
   "metadata": {},
   "source": [
    "# Model Building"
   ]
  },
  {
   "cell_type": "code",
   "execution_count": 69,
   "metadata": {},
   "outputs": [],
   "source": [
    "model = Sequential()\n",
    "model.add(Embedding(vocab_size,10, input_length=3)) # data import\n",
    "model.add(LSTM(50,return_sequences=True)) # LSTM1\n",
    "model.add(LSTM(50))  # LSTM2\n",
    "model.add(Dense(50,activation='relu')) # HIDDEN LAYER\n",
    "model.add(Dense(vocab_size, activation='softmax'))"
   ]
  },
  {
   "cell_type": "code",
   "execution_count": 70,
   "metadata": {},
   "outputs": [
    {
     "name": "stdout",
     "output_type": "stream",
     "text": [
      "Model: \"sequential_1\"\n",
      "_________________________________________________________________\n",
      " Layer (type)                Output Shape              Param #   \n",
      "=================================================================\n",
      " embedding_1 (Embedding)     (None, 3, 10)             190       \n",
      "                                                                 \n",
      " lstm_2 (LSTM)               (None, 3, 50)             12200     \n",
      "                                                                 \n",
      " lstm_3 (LSTM)               (None, 50)                20200     \n",
      "                                                                 \n",
      " dense_2 (Dense)             (None, 50)                2550      \n",
      "                                                                 \n",
      " dense_3 (Dense)             (None, 19)                969       \n",
      "                                                                 \n",
      "=================================================================\n",
      "Total params: 36,109\n",
      "Trainable params: 36,109\n",
      "Non-trainable params: 0\n",
      "_________________________________________________________________\n"
     ]
    }
   ],
   "source": [
    "model.summary()"
   ]
  },
  {
   "cell_type": "code",
   "execution_count": 71,
   "metadata": {},
   "outputs": [],
   "source": [
    "model.compile(optimizer='adam',loss = 'categorical_crossentropy',metrics=['accuracy'])"
   ]
  },
  {
   "cell_type": "code",
   "execution_count": 72,
   "metadata": {},
   "outputs": [
    {
     "name": "stdout",
     "output_type": "stream",
     "text": [
      "Epoch 1/200\n",
      "1/1 [==============================] - 18s 18s/step - loss: 2.9446 - accuracy: 0.0556\n",
      "Epoch 2/200\n",
      "1/1 [==============================] - 0s 39ms/step - loss: 2.9436 - accuracy: 0.0556\n",
      "Epoch 3/200\n",
      "1/1 [==============================] - 0s 42ms/step - loss: 2.9428 - accuracy: 0.0556\n",
      "Epoch 4/200\n",
      "1/1 [==============================] - 0s 25ms/step - loss: 2.9419 - accuracy: 0.0556\n",
      "Epoch 5/200\n",
      "1/1 [==============================] - 0s 46ms/step - loss: 2.9411 - accuracy: 0.0556\n",
      "Epoch 6/200\n",
      "1/1 [==============================] - 0s 34ms/step - loss: 2.9401 - accuracy: 0.1667\n",
      "Epoch 7/200\n",
      "1/1 [==============================] - 0s 37ms/step - loss: 2.9392 - accuracy: 0.1667\n",
      "Epoch 8/200\n",
      "1/1 [==============================] - 0s 66ms/step - loss: 2.9381 - accuracy: 0.1111\n",
      "Epoch 9/200\n",
      "1/1 [==============================] - 0s 31ms/step - loss: 2.9371 - accuracy: 0.1111\n",
      "Epoch 10/200\n",
      "1/1 [==============================] - 0s 26ms/step - loss: 2.9360 - accuracy: 0.1111\n",
      "Epoch 11/200\n",
      "1/1 [==============================] - 0s 34ms/step - loss: 2.9348 - accuracy: 0.1111\n",
      "Epoch 12/200\n",
      "1/1 [==============================] - 0s 40ms/step - loss: 2.9336 - accuracy: 0.1111\n",
      "Epoch 13/200\n",
      "1/1 [==============================] - 0s 22ms/step - loss: 2.9323 - accuracy: 0.1111\n",
      "Epoch 14/200\n",
      "1/1 [==============================] - 0s 29ms/step - loss: 2.9310 - accuracy: 0.1111\n",
      "Epoch 15/200\n",
      "1/1 [==============================] - 0s 42ms/step - loss: 2.9295 - accuracy: 0.1111\n",
      "Epoch 16/200\n",
      "1/1 [==============================] - 0s 45ms/step - loss: 2.9279 - accuracy: 0.1111\n",
      "Epoch 17/200\n",
      "1/1 [==============================] - 0s 37ms/step - loss: 2.9263 - accuracy: 0.1111\n",
      "Epoch 18/200\n",
      "1/1 [==============================] - 0s 27ms/step - loss: 2.9245 - accuracy: 0.1111\n",
      "Epoch 19/200\n",
      "1/1 [==============================] - 0s 27ms/step - loss: 2.9226 - accuracy: 0.1111\n",
      "Epoch 20/200\n",
      "1/1 [==============================] - 0s 21ms/step - loss: 2.9206 - accuracy: 0.1111\n",
      "Epoch 21/200\n",
      "1/1 [==============================] - 0s 28ms/step - loss: 2.9184 - accuracy: 0.1111\n",
      "Epoch 22/200\n",
      "1/1 [==============================] - 0s 32ms/step - loss: 2.9161 - accuracy: 0.1111\n",
      "Epoch 23/200\n",
      "1/1 [==============================] - 0s 20ms/step - loss: 2.9135 - accuracy: 0.1111\n",
      "Epoch 24/200\n",
      "1/1 [==============================] - 0s 23ms/step - loss: 2.9108 - accuracy: 0.1111\n",
      "Epoch 25/200\n",
      "1/1 [==============================] - 0s 29ms/step - loss: 2.9079 - accuracy: 0.1111\n",
      "Epoch 26/200\n",
      "1/1 [==============================] - 0s 29ms/step - loss: 2.9047 - accuracy: 0.1111\n",
      "Epoch 27/200\n",
      "1/1 [==============================] - 0s 29ms/step - loss: 2.9013 - accuracy: 0.1111\n",
      "Epoch 28/200\n",
      "1/1 [==============================] - 0s 41ms/step - loss: 2.8976 - accuracy: 0.1111\n",
      "Epoch 29/200\n",
      "1/1 [==============================] - 0s 25ms/step - loss: 2.8935 - accuracy: 0.1111\n",
      "Epoch 30/200\n",
      "1/1 [==============================] - 0s 28ms/step - loss: 2.8891 - accuracy: 0.1111\n",
      "Epoch 31/200\n",
      "1/1 [==============================] - 0s 17ms/step - loss: 2.8843 - accuracy: 0.1111\n",
      "Epoch 32/200\n",
      "1/1 [==============================] - 0s 20ms/step - loss: 2.8791 - accuracy: 0.1111\n",
      "Epoch 33/200\n",
      "1/1 [==============================] - 0s 29ms/step - loss: 2.8734 - accuracy: 0.1111\n",
      "Epoch 34/200\n",
      "1/1 [==============================] - 0s 21ms/step - loss: 2.8672 - accuracy: 0.1111\n",
      "Epoch 35/200\n",
      "1/1 [==============================] - 0s 27ms/step - loss: 2.8604 - accuracy: 0.1111\n",
      "Epoch 36/200\n",
      "1/1 [==============================] - 0s 27ms/step - loss: 2.8529 - accuracy: 0.1111\n",
      "Epoch 37/200\n",
      "1/1 [==============================] - 0s 18ms/step - loss: 2.8448 - accuracy: 0.1111\n",
      "Epoch 38/200\n",
      "1/1 [==============================] - 0s 35ms/step - loss: 2.8359 - accuracy: 0.1111\n",
      "Epoch 39/200\n",
      "1/1 [==============================] - 0s 28ms/step - loss: 2.8263 - accuracy: 0.1111\n",
      "Epoch 40/200\n",
      "1/1 [==============================] - 0s 20ms/step - loss: 2.8158 - accuracy: 0.1111\n",
      "Epoch 41/200\n",
      "1/1 [==============================] - 0s 29ms/step - loss: 2.8043 - accuracy: 0.1111\n",
      "Epoch 42/200\n",
      "1/1 [==============================] - 0s 19ms/step - loss: 2.7917 - accuracy: 0.1111\n",
      "Epoch 43/200\n",
      "1/1 [==============================] - 0s 30ms/step - loss: 2.7781 - accuracy: 0.1111\n",
      "Epoch 44/200\n",
      "1/1 [==============================] - 0s 21ms/step - loss: 2.7631 - accuracy: 0.1111\n",
      "Epoch 45/200\n",
      "1/1 [==============================] - 0s 27ms/step - loss: 2.7469 - accuracy: 0.1111\n",
      "Epoch 46/200\n",
      "1/1 [==============================] - 0s 24ms/step - loss: 2.7292 - accuracy: 0.1111\n",
      "Epoch 47/200\n",
      "1/1 [==============================] - 0s 20ms/step - loss: 2.7101 - accuracy: 0.1111\n",
      "Epoch 48/200\n",
      "1/1 [==============================] - 0s 17ms/step - loss: 2.6894 - accuracy: 0.1111\n",
      "Epoch 49/200\n",
      "1/1 [==============================] - 0s 33ms/step - loss: 2.6671 - accuracy: 0.1111\n",
      "Epoch 50/200\n",
      "1/1 [==============================] - 0s 27ms/step - loss: 2.6428 - accuracy: 0.1111\n",
      "Epoch 51/200\n",
      "1/1 [==============================] - 0s 27ms/step - loss: 2.6169 - accuracy: 0.1111\n",
      "Epoch 52/200\n",
      "1/1 [==============================] - 0s 23ms/step - loss: 2.5892 - accuracy: 0.1111\n",
      "Epoch 53/200\n",
      "1/1 [==============================] - 0s 24ms/step - loss: 2.5601 - accuracy: 0.1111\n",
      "Epoch 54/200\n",
      "1/1 [==============================] - 0s 27ms/step - loss: 2.5294 - accuracy: 0.1111\n",
      "Epoch 55/200\n",
      "1/1 [==============================] - 0s 37ms/step - loss: 2.4978 - accuracy: 0.1111\n",
      "Epoch 56/200\n",
      "1/1 [==============================] - 0s 23ms/step - loss: 2.4659 - accuracy: 0.1111\n",
      "Epoch 57/200\n",
      "1/1 [==============================] - 0s 21ms/step - loss: 2.4345 - accuracy: 0.1667\n",
      "Epoch 58/200\n",
      "1/1 [==============================] - 0s 28ms/step - loss: 2.4027 - accuracy: 0.1667\n",
      "Epoch 59/200\n",
      "1/1 [==============================] - 0s 27ms/step - loss: 2.3707 - accuracy: 0.1667\n",
      "Epoch 60/200\n",
      "1/1 [==============================] - 0s 56ms/step - loss: 2.3391 - accuracy: 0.2222\n",
      "Epoch 61/200\n",
      "1/1 [==============================] - 0s 42ms/step - loss: 2.3077 - accuracy: 0.2222\n",
      "Epoch 62/200\n",
      "1/1 [==============================] - 0s 39ms/step - loss: 2.2762 - accuracy: 0.2222\n",
      "Epoch 63/200\n",
      "1/1 [==============================] - 0s 32ms/step - loss: 2.2448 - accuracy: 0.2222\n",
      "Epoch 64/200\n",
      "1/1 [==============================] - 0s 33ms/step - loss: 2.2136 - accuracy: 0.2778\n",
      "Epoch 65/200\n",
      "1/1 [==============================] - 0s 38ms/step - loss: 2.1828 - accuracy: 0.2778\n",
      "Epoch 66/200\n",
      "1/1 [==============================] - 0s 49ms/step - loss: 2.1517 - accuracy: 0.2778\n",
      "Epoch 67/200\n",
      "1/1 [==============================] - 0s 49ms/step - loss: 2.1205 - accuracy: 0.2778\n",
      "Epoch 68/200\n",
      "1/1 [==============================] - 0s 39ms/step - loss: 2.0889 - accuracy: 0.2778\n",
      "Epoch 69/200\n",
      "1/1 [==============================] - 0s 22ms/step - loss: 2.0570 - accuracy: 0.2778\n",
      "Epoch 70/200\n",
      "1/1 [==============================] - 0s 38ms/step - loss: 2.0249 - accuracy: 0.2778\n",
      "Epoch 71/200\n",
      "1/1 [==============================] - 0s 21ms/step - loss: 1.9923 - accuracy: 0.2778\n",
      "Epoch 72/200\n",
      "1/1 [==============================] - 0s 28ms/step - loss: 1.9591 - accuracy: 0.2778\n",
      "Epoch 73/200\n",
      "1/1 [==============================] - 0s 21ms/step - loss: 1.9254 - accuracy: 0.2778\n",
      "Epoch 74/200\n",
      "1/1 [==============================] - 0s 28ms/step - loss: 1.8914 - accuracy: 0.3333\n",
      "Epoch 75/200\n",
      "1/1 [==============================] - 0s 25ms/step - loss: 1.8580 - accuracy: 0.3333\n",
      "Epoch 76/200\n",
      "1/1 [==============================] - 0s 23ms/step - loss: 1.8247 - accuracy: 0.3889\n",
      "Epoch 77/200\n",
      "1/1 [==============================] - 0s 25ms/step - loss: 1.7914 - accuracy: 0.3333\n",
      "Epoch 78/200\n",
      "1/1 [==============================] - 0s 21ms/step - loss: 1.7575 - accuracy: 0.3333\n",
      "Epoch 79/200\n",
      "1/1 [==============================] - 0s 21ms/step - loss: 1.7235 - accuracy: 0.3889\n",
      "Epoch 80/200\n",
      "1/1 [==============================] - 0s 24ms/step - loss: 1.6896 - accuracy: 0.3889\n",
      "Epoch 81/200\n",
      "1/1 [==============================] - 0s 21ms/step - loss: 1.6559 - accuracy: 0.3889\n",
      "Epoch 82/200\n",
      "1/1 [==============================] - 0s 21ms/step - loss: 1.6225 - accuracy: 0.3889\n",
      "Epoch 83/200\n"
     ]
    },
    {
     "name": "stdout",
     "output_type": "stream",
     "text": [
      "1/1 [==============================] - 0s 18ms/step - loss: 1.5898 - accuracy: 0.4444\n",
      "Epoch 84/200\n",
      "1/1 [==============================] - 0s 26ms/step - loss: 1.5570 - accuracy: 0.5556\n",
      "Epoch 85/200\n",
      "1/1 [==============================] - 0s 22ms/step - loss: 1.5238 - accuracy: 0.6111\n",
      "Epoch 86/200\n",
      "1/1 [==============================] - 0s 20ms/step - loss: 1.4907 - accuracy: 0.6111\n",
      "Epoch 87/200\n",
      "1/1 [==============================] - 0s 22ms/step - loss: 1.4582 - accuracy: 0.6111\n",
      "Epoch 88/200\n",
      "1/1 [==============================] - 0s 38ms/step - loss: 1.4260 - accuracy: 0.6111\n",
      "Epoch 89/200\n",
      "1/1 [==============================] - 0s 39ms/step - loss: 1.3940 - accuracy: 0.6111\n",
      "Epoch 90/200\n",
      "1/1 [==============================] - 0s 27ms/step - loss: 1.3622 - accuracy: 0.6667\n",
      "Epoch 91/200\n",
      "1/1 [==============================] - 0s 37ms/step - loss: 1.3311 - accuracy: 0.6667\n",
      "Epoch 92/200\n",
      "1/1 [==============================] - 0s 25ms/step - loss: 1.3006 - accuracy: 0.7222\n",
      "Epoch 93/200\n",
      "1/1 [==============================] - 0s 25ms/step - loss: 1.2702 - accuracy: 0.6667\n",
      "Epoch 94/200\n",
      "1/1 [==============================] - 0s 33ms/step - loss: 1.2393 - accuracy: 0.6111\n",
      "Epoch 95/200\n",
      "1/1 [==============================] - 0s 35ms/step - loss: 1.2082 - accuracy: 0.6111\n",
      "Epoch 96/200\n",
      "1/1 [==============================] - 0s 29ms/step - loss: 1.1777 - accuracy: 0.6111\n",
      "Epoch 97/200\n",
      "1/1 [==============================] - 0s 33ms/step - loss: 1.1469 - accuracy: 0.7222\n",
      "Epoch 98/200\n",
      "1/1 [==============================] - 0s 43ms/step - loss: 1.1158 - accuracy: 0.7222\n",
      "Epoch 99/200\n",
      "1/1 [==============================] - 0s 34ms/step - loss: 1.0854 - accuracy: 0.7222\n",
      "Epoch 100/200\n",
      "1/1 [==============================] - 0s 25ms/step - loss: 1.0559 - accuracy: 0.7222\n",
      "Epoch 101/200\n",
      "1/1 [==============================] - 0s 21ms/step - loss: 1.0264 - accuracy: 0.7222\n",
      "Epoch 102/200\n",
      "1/1 [==============================] - 0s 30ms/step - loss: 0.9968 - accuracy: 0.7778\n",
      "Epoch 103/200\n",
      "1/1 [==============================] - 0s 28ms/step - loss: 0.9673 - accuracy: 0.7778\n",
      "Epoch 104/200\n",
      "1/1 [==============================] - 0s 25ms/step - loss: 0.9385 - accuracy: 0.7778\n",
      "Epoch 105/200\n",
      "1/1 [==============================] - 0s 24ms/step - loss: 0.9100 - accuracy: 0.7778\n",
      "Epoch 106/200\n",
      "1/1 [==============================] - 0s 41ms/step - loss: 0.8822 - accuracy: 0.7778\n",
      "Epoch 107/200\n",
      "1/1 [==============================] - 0s 33ms/step - loss: 0.8551 - accuracy: 0.8333\n",
      "Epoch 108/200\n",
      "1/1 [==============================] - 0s 31ms/step - loss: 0.8285 - accuracy: 0.8333\n",
      "Epoch 109/200\n",
      "1/1 [==============================] - 0s 26ms/step - loss: 0.8023 - accuracy: 0.9444\n",
      "Epoch 110/200\n",
      "1/1 [==============================] - 0s 56ms/step - loss: 0.7770 - accuracy: 0.8889\n",
      "Epoch 111/200\n",
      "1/1 [==============================] - 0s 28ms/step - loss: 0.7524 - accuracy: 0.9444\n",
      "Epoch 112/200\n",
      "1/1 [==============================] - 0s 30ms/step - loss: 0.7282 - accuracy: 0.9444\n",
      "Epoch 113/200\n",
      "1/1 [==============================] - 0s 25ms/step - loss: 0.7050 - accuracy: 1.0000\n",
      "Epoch 114/200\n",
      "1/1 [==============================] - 0s 21ms/step - loss: 0.6824 - accuracy: 1.0000\n",
      "Epoch 115/200\n",
      "1/1 [==============================] - 0s 43ms/step - loss: 0.6602 - accuracy: 1.0000\n",
      "Epoch 116/200\n",
      "1/1 [==============================] - 0s 33ms/step - loss: 0.6390 - accuracy: 1.0000\n",
      "Epoch 117/200\n",
      "1/1 [==============================] - 0s 72ms/step - loss: 0.6184 - accuracy: 1.0000\n",
      "Epoch 118/200\n",
      "1/1 [==============================] - 0s 40ms/step - loss: 0.5978 - accuracy: 1.0000\n",
      "Epoch 119/200\n",
      "1/1 [==============================] - 0s 35ms/step - loss: 0.5770 - accuracy: 1.0000\n",
      "Epoch 120/200\n",
      "1/1 [==============================] - 0s 26ms/step - loss: 0.5566 - accuracy: 1.0000\n",
      "Epoch 121/200\n",
      "1/1 [==============================] - 0s 29ms/step - loss: 0.5365 - accuracy: 1.0000\n",
      "Epoch 122/200\n",
      "1/1 [==============================] - 0s 24ms/step - loss: 0.5159 - accuracy: 1.0000\n",
      "Epoch 123/200\n",
      "1/1 [==============================] - 0s 27ms/step - loss: 0.4958 - accuracy: 1.0000\n",
      "Epoch 124/200\n",
      "1/1 [==============================] - 0s 21ms/step - loss: 0.4754 - accuracy: 1.0000\n",
      "Epoch 125/200\n",
      "1/1 [==============================] - 0s 30ms/step - loss: 0.4551 - accuracy: 1.0000\n",
      "Epoch 126/200\n",
      "1/1 [==============================] - 0s 48ms/step - loss: 0.4350 - accuracy: 1.0000\n",
      "Epoch 127/200\n",
      "1/1 [==============================] - 0s 32ms/step - loss: 0.4153 - accuracy: 1.0000\n",
      "Epoch 128/200\n",
      "1/1 [==============================] - 0s 52ms/step - loss: 0.3965 - accuracy: 1.0000\n",
      "Epoch 129/200\n",
      "1/1 [==============================] - 0s 36ms/step - loss: 0.3778 - accuracy: 1.0000\n",
      "Epoch 130/200\n",
      "1/1 [==============================] - 0s 32ms/step - loss: 0.3601 - accuracy: 1.0000\n",
      "Epoch 131/200\n",
      "1/1 [==============================] - 0s 51ms/step - loss: 0.3429 - accuracy: 1.0000\n",
      "Epoch 132/200\n",
      "1/1 [==============================] - 0s 38ms/step - loss: 0.3272 - accuracy: 1.0000\n",
      "Epoch 133/200\n",
      "1/1 [==============================] - 0s 33ms/step - loss: 0.3111 - accuracy: 1.0000\n",
      "Epoch 134/200\n",
      "1/1 [==============================] - 0s 34ms/step - loss: 0.2963 - accuracy: 1.0000\n",
      "Epoch 135/200\n",
      "1/1 [==============================] - 0s 45ms/step - loss: 0.2820 - accuracy: 1.0000\n",
      "Epoch 136/200\n",
      "1/1 [==============================] - 0s 29ms/step - loss: 0.2686 - accuracy: 1.0000\n",
      "Epoch 137/200\n",
      "1/1 [==============================] - 0s 24ms/step - loss: 0.2554 - accuracy: 1.0000\n",
      "Epoch 138/200\n",
      "1/1 [==============================] - 0s 27ms/step - loss: 0.2425 - accuracy: 1.0000\n",
      "Epoch 139/200\n",
      "1/1 [==============================] - 0s 41ms/step - loss: 0.2306 - accuracy: 1.0000\n",
      "Epoch 140/200\n",
      "1/1 [==============================] - 0s 49ms/step - loss: 0.2187 - accuracy: 1.0000\n",
      "Epoch 141/200\n",
      "1/1 [==============================] - 0s 37ms/step - loss: 0.2086 - accuracy: 1.0000\n",
      "Epoch 142/200\n",
      "1/1 [==============================] - 0s 36ms/step - loss: 0.1980 - accuracy: 1.0000\n",
      "Epoch 143/200\n",
      "1/1 [==============================] - 0s 31ms/step - loss: 0.1886 - accuracy: 1.0000\n",
      "Epoch 144/200\n",
      "1/1 [==============================] - 0s 23ms/step - loss: 0.1796 - accuracy: 1.0000\n",
      "Epoch 145/200\n",
      "1/1 [==============================] - 0s 26ms/step - loss: 0.1708 - accuracy: 1.0000\n",
      "Epoch 146/200\n",
      "1/1 [==============================] - 0s 21ms/step - loss: 0.1631 - accuracy: 1.0000\n",
      "Epoch 147/200\n",
      "1/1 [==============================] - 0s 44ms/step - loss: 0.1553 - accuracy: 1.0000\n",
      "Epoch 148/200\n",
      "1/1 [==============================] - 0s 26ms/step - loss: 0.1484 - accuracy: 1.0000\n",
      "Epoch 149/200\n",
      "1/1 [==============================] - 0s 34ms/step - loss: 0.1419 - accuracy: 1.0000\n",
      "Epoch 150/200\n",
      "1/1 [==============================] - 0s 30ms/step - loss: 0.1356 - accuracy: 1.0000\n",
      "Epoch 151/200\n",
      "1/1 [==============================] - 0s 32ms/step - loss: 0.1299 - accuracy: 1.0000\n",
      "Epoch 152/200\n",
      "1/1 [==============================] - 0s 51ms/step - loss: 0.1245 - accuracy: 1.0000\n",
      "Epoch 153/200\n",
      "1/1 [==============================] - 0s 30ms/step - loss: 0.1194 - accuracy: 1.0000\n",
      "Epoch 154/200\n",
      "1/1 [==============================] - 0s 29ms/step - loss: 0.1147 - accuracy: 1.0000\n",
      "Epoch 155/200\n",
      "1/1 [==============================] - 0s 20ms/step - loss: 0.1100 - accuracy: 1.0000\n",
      "Epoch 156/200\n",
      "1/1 [==============================] - 0s 20ms/step - loss: 0.1057 - accuracy: 1.0000\n",
      "Epoch 157/200\n",
      "1/1 [==============================] - 0s 20ms/step - loss: 0.1017 - accuracy: 1.0000\n",
      "Epoch 158/200\n",
      "1/1 [==============================] - 0s 44ms/step - loss: 0.0977 - accuracy: 1.0000\n",
      "Epoch 159/200\n",
      "1/1 [==============================] - 0s 29ms/step - loss: 0.0940 - accuracy: 1.0000\n",
      "Epoch 160/200\n",
      "1/1 [==============================] - 0s 30ms/step - loss: 0.0906 - accuracy: 1.0000\n",
      "Epoch 161/200\n",
      "1/1 [==============================] - 0s 36ms/step - loss: 0.0872 - accuracy: 1.0000\n",
      "Epoch 162/200\n",
      "1/1 [==============================] - 0s 32ms/step - loss: 0.0840 - accuracy: 1.0000\n",
      "Epoch 163/200\n",
      "1/1 [==============================] - 0s 39ms/step - loss: 0.0809 - accuracy: 1.0000\n",
      "Epoch 164/200\n",
      "1/1 [==============================] - 0s 20ms/step - loss: 0.0780 - accuracy: 1.0000\n",
      "Epoch 165/200\n"
     ]
    },
    {
     "name": "stdout",
     "output_type": "stream",
     "text": [
      "1/1 [==============================] - 0s 21ms/step - loss: 0.0753 - accuracy: 1.0000\n",
      "Epoch 166/200\n",
      "1/1 [==============================] - 0s 26ms/step - loss: 0.0726 - accuracy: 1.0000\n",
      "Epoch 167/200\n",
      "1/1 [==============================] - 0s 27ms/step - loss: 0.0701 - accuracy: 1.0000\n",
      "Epoch 168/200\n",
      "1/1 [==============================] - 0s 33ms/step - loss: 0.0677 - accuracy: 1.0000\n",
      "Epoch 169/200\n",
      "1/1 [==============================] - 0s 29ms/step - loss: 0.0654 - accuracy: 1.0000\n",
      "Epoch 170/200\n",
      "1/1 [==============================] - 0s 32ms/step - loss: 0.0633 - accuracy: 1.0000\n",
      "Epoch 171/200\n",
      "1/1 [==============================] - 0s 39ms/step - loss: 0.0612 - accuracy: 1.0000\n",
      "Epoch 172/200\n",
      "1/1 [==============================] - 0s 43ms/step - loss: 0.0592 - accuracy: 1.0000\n",
      "Epoch 173/200\n",
      "1/1 [==============================] - 0s 26ms/step - loss: 0.0573 - accuracy: 1.0000\n",
      "Epoch 174/200\n",
      "1/1 [==============================] - 0s 28ms/step - loss: 0.0555 - accuracy: 1.0000\n",
      "Epoch 175/200\n",
      "1/1 [==============================] - 0s 23ms/step - loss: 0.0538 - accuracy: 1.0000\n",
      "Epoch 176/200\n",
      "1/1 [==============================] - 0s 26ms/step - loss: 0.0522 - accuracy: 1.0000\n",
      "Epoch 177/200\n",
      "1/1 [==============================] - 0s 26ms/step - loss: 0.0507 - accuracy: 1.0000\n",
      "Epoch 178/200\n",
      "1/1 [==============================] - 0s 34ms/step - loss: 0.0492 - accuracy: 1.0000\n",
      "Epoch 179/200\n",
      "1/1 [==============================] - 0s 23ms/step - loss: 0.0478 - accuracy: 1.0000\n",
      "Epoch 180/200\n",
      "1/1 [==============================] - 0s 39ms/step - loss: 0.0465 - accuracy: 1.0000\n",
      "Epoch 181/200\n",
      "1/1 [==============================] - 0s 26ms/step - loss: 0.0452 - accuracy: 1.0000\n",
      "Epoch 182/200\n",
      "1/1 [==============================] - 0s 29ms/step - loss: 0.0440 - accuracy: 1.0000\n",
      "Epoch 183/200\n",
      "1/1 [==============================] - 0s 24ms/step - loss: 0.0428 - accuracy: 1.0000\n",
      "Epoch 184/200\n",
      "1/1 [==============================] - 0s 24ms/step - loss: 0.0417 - accuracy: 1.0000\n",
      "Epoch 185/200\n",
      "1/1 [==============================] - 0s 23ms/step - loss: 0.0406 - accuracy: 1.0000\n",
      "Epoch 186/200\n",
      "1/1 [==============================] - 0s 24ms/step - loss: 0.0396 - accuracy: 1.0000\n",
      "Epoch 187/200\n",
      "1/1 [==============================] - 0s 22ms/step - loss: 0.0386 - accuracy: 1.0000\n",
      "Epoch 188/200\n",
      "1/1 [==============================] - 0s 22ms/step - loss: 0.0376 - accuracy: 1.0000\n",
      "Epoch 189/200\n",
      "1/1 [==============================] - 0s 24ms/step - loss: 0.0367 - accuracy: 1.0000\n",
      "Epoch 190/200\n",
      "1/1 [==============================] - 0s 21ms/step - loss: 0.0358 - accuracy: 1.0000\n",
      "Epoch 191/200\n",
      "1/1 [==============================] - 0s 24ms/step - loss: 0.0350 - accuracy: 1.0000\n",
      "Epoch 192/200\n",
      "1/1 [==============================] - 0s 28ms/step - loss: 0.0342 - accuracy: 1.0000\n",
      "Epoch 193/200\n",
      "1/1 [==============================] - 0s 25ms/step - loss: 0.0334 - accuracy: 1.0000\n",
      "Epoch 194/200\n",
      "1/1 [==============================] - 0s 20ms/step - loss: 0.0327 - accuracy: 1.0000\n",
      "Epoch 195/200\n",
      "1/1 [==============================] - 0s 19ms/step - loss: 0.0320 - accuracy: 1.0000\n",
      "Epoch 196/200\n",
      "1/1 [==============================] - 0s 23ms/step - loss: 0.0313 - accuracy: 1.0000\n",
      "Epoch 197/200\n",
      "1/1 [==============================] - 0s 24ms/step - loss: 0.0306 - accuracy: 1.0000\n",
      "Epoch 198/200\n",
      "1/1 [==============================] - 0s 24ms/step - loss: 0.0300 - accuracy: 1.0000\n",
      "Epoch 199/200\n",
      "1/1 [==============================] - 0s 21ms/step - loss: 0.0294 - accuracy: 1.0000\n",
      "Epoch 200/200\n",
      "1/1 [==============================] - 0s 24ms/step - loss: 0.0287 - accuracy: 1.0000\n"
     ]
    }
   ],
   "source": [
    "r = model.fit(X,Y,epochs=200)"
   ]
  },
  {
   "cell_type": "markdown",
   "metadata": {},
   "source": [
    "# Future Word Prediction\n",
    "\n",
    "#### Describe\n",
    "* Model = model we build\n",
    "* tokenizer = Breaking into Word\n",
    "* enter_text = input user give"
   ]
  },
  {
   "cell_type": "code",
   "execution_count": 39,
   "metadata": {},
   "outputs": [
    {
     "name": "stdout",
     "output_type": "stream",
     "text": [
      "california 1\n",
      "state 2\n",
      "western 3\n",
      "united 4\n",
      "states 5\n",
      "borders 6\n",
      "oregon 7\n",
      "north 8\n",
      "nevada 9\n",
      "arizona 10\n",
      "east 11\n",
      "mexican 12\n",
      "baja 13\n",
      "south 14\n",
      "coastline 15\n",
      "pacific 16\n",
      "ocean 17\n",
      "west 18\n"
     ]
    }
   ],
   "source": [
    "for word, index in tokenizer.word_index.items():\n",
    "    print(word,index)"
   ]
  },
  {
   "cell_type": "code",
   "execution_count": 40,
   "metadata": {},
   "outputs": [
    {
     "name": "stdout",
     "output_type": "stream",
     "text": [
      "1/1 [==============================] - 3s 3s/step\n"
     ]
    },
    {
     "data": {
      "text/plain": [
       "7"
      ]
     },
     "execution_count": 40,
     "metadata": {},
     "output_type": "execute_result"
    }
   ],
   "source": [
    "enter_text='states california borders'\n",
    "encoded = tokenizer.texts_to_sequences([enter_text]) \n",
    "encoded = np.array(encoded) # [3]\n",
    "predicted= np.argmax(model.predict(encoded))  # input = 3 # prediction = 4  \n",
    "predicted"
   ]
  },
  {
   "cell_type": "code",
   "execution_count": 41,
   "metadata": {},
   "outputs": [],
   "source": [
    "def Predict_Next_Words(model,tokenizer,enter_text):\n",
    "        encoded = tokenizer.texts_to_sequences([enter_text]) # in_text = Western = 3 \n",
    "        encoded = np.array(encoded) # [3]\n",
    "        predicted= np.argmax(model.predict(encoded))  # input = 3 # prediction = 4  \n",
    "        predicted_word=''\n",
    "        for word, index in tokenizer.word_index.items():\n",
    "            if  index==predicted:    # Predicted  7 = Index 7\n",
    "                predicted_word = word      # word = OREGON\n",
    "                break\n",
    "        result=enter_text + ' ' + predicted_word\n",
    "        return result"
   ]
  },
  {
   "cell_type": "code",
   "execution_count": 42,
   "metadata": {},
   "outputs": [
    {
     "data": {
      "text/plain": [
       "'california state western united states california borders oregon north nevada arizona east mexican state baja california south coastline pacific ocean west'"
      ]
     },
     "execution_count": 42,
     "metadata": {},
     "output_type": "execute_result"
    }
   ],
   "source": [
    "data"
   ]
  },
  {
   "cell_type": "code",
   "execution_count": 43,
   "metadata": {
    "scrolled": true
   },
   "outputs": [
    {
     "name": "stdout",
     "output_type": "stream",
     "text": [
      "1/1 [==============================] - 0s 38ms/step\n",
      "states california borders oregon\n"
     ]
    }
   ],
   "source": [
    "print(Predict_Next_Words(model,tokenizer,'states california borders'))"
   ]
  },
  {
   "cell_type": "code",
   "execution_count": 44,
   "metadata": {
    "scrolled": false
   },
   "outputs": [
    {
     "name": "stdout",
     "output_type": "stream",
     "text": [
      "1/1 [==============================] - 0s 56ms/step\n",
      "california borders oregon north\n"
     ]
    }
   ],
   "source": [
    "print(Predict_Next_Words(model,tokenizer,'california borders oregon'))"
   ]
  },
  {
   "cell_type": "code",
   "execution_count": 45,
   "metadata": {
    "scrolled": false
   },
   "outputs": [
    {
     "name": "stdout",
     "output_type": "stream",
     "text": [
      "1/1 [==============================] - 0s 57ms/step\n",
      "borders oregon north nevada\n"
     ]
    }
   ],
   "source": [
    "print(Predict_Next_Words(model,tokenizer,'borders oregon north'))"
   ]
  },
  {
   "cell_type": "code",
   "execution_count": 46,
   "metadata": {
    "scrolled": true
   },
   "outputs": [
    {
     "name": "stdout",
     "output_type": "stream",
     "text": [
      "1/1 [==============================] - 0s 55ms/step\n",
      "oregon north nevada  arizona\n"
     ]
    }
   ],
   "source": [
    "print(Predict_Next_Words(model,tokenizer,'oregon north nevada '))"
   ]
  },
  {
   "cell_type": "markdown",
   "metadata": {},
   "source": [
    "# Finished"
   ]
  },
  {
   "cell_type": "code",
   "execution_count": null,
   "metadata": {},
   "outputs": [],
   "source": []
  },
  {
   "cell_type": "code",
   "execution_count": null,
   "metadata": {},
   "outputs": [],
   "source": []
  },
  {
   "cell_type": "code",
   "execution_count": null,
   "metadata": {},
   "outputs": [],
   "source": []
  }
 ],
 "metadata": {
  "kernelspec": {
   "display_name": "Python 3 (ipykernel)",
   "language": "python",
   "name": "python3"
  },
  "language_info": {
   "codemirror_mode": {
    "name": "ipython",
    "version": 3
   },
   "file_extension": ".py",
   "mimetype": "text/x-python",
   "name": "python",
   "nbconvert_exporter": "python",
   "pygments_lexer": "ipython3",
   "version": "3.9.12"
  }
 },
 "nbformat": 4,
 "nbformat_minor": 4
}
